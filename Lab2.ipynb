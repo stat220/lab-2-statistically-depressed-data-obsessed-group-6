{
  "cells": [
    {
      "cell_type": "markdown",
      "metadata": {
        "id": "AMSos5TwvRUh"
      },
      "source": [
        "# Lab 2"
      ]
    },
    {
      "cell_type": "markdown",
      "metadata": {
        "id": "okS-3Z1tvd-_"
      },
      "source": [
        "## Part A\n",
        "\n",
        "A Calculating the probability of rolling m dice, each with n sides, and having the sum of the dice\n",
        "be greater than x. This calculation should only be implemented for m = 1 through 4 and n is\n",
        "at most 20."
      ]
    },
    {
      "cell_type": "code",
      "execution_count": 1,
      "metadata": {
        "id": "s5ydA12GwF14"
      },
      "outputs": [],
      "source": [
        "import itertools\n",
        "import pandas as pd\n",
        "import numpy as np"
      ]
    },
    {
      "cell_type": "code",
      "execution_count": 2,
      "metadata": {
        "id": "C2yEvwJ-vPkt"
      },
      "outputs": [],
      "source": [
        "# M: Number of dice\n",
        "# N: How many sides each dice has\n",
        "# X: Sum of dice to be greater than\n",
        "def cal_greater_sum(m, n, x):\n",
        "  # List out all possible rolls\n",
        "  rolls = list(itertools.product(range(1, n + 1), repeat=m))\n",
        "  # Find the sum of all possible rolls\n",
        "  sums = np.array([sum(roll) for roll in rolls])\n",
        "  # Find the proportion of those sums that are greater than or equal to the target x\n",
        "  return np.mean(sums >= x)"
      ]
    },
    {
      "cell_type": "markdown",
      "metadata": {
        "id": "Pz0EyhyAvfL1"
      },
      "source": [
        "## Part B\n",
        "\n",
        "Determining the probability of rolling m dice, each with n sides, and having at least one die\n",
        "show a value greater than or equal to x."
      ]
    },
    {
      "cell_type": "code",
      "execution_count": 3,
      "metadata": {
        "id": "aD6U_v6Yvgdo"
      },
      "outputs": [],
      "source": [
        "# M: Number of dice\n",
        "# N: How many sides each dice has\n",
        "# X: At least one dice to be greater than or equal to\n",
        "def cal_at_least_one(m, n, x):\n",
        "    # List out all possible rolls\n",
        "    rolls = list(itertools.product(range(1, n + 1), repeat=m))\n",
        "    # Count the number of rolls that have at least one dice greater than or equal to the target x\n",
        "    count = len([roll for roll in rolls if max(roll) >= x])\n",
        "    # Find the proportion of those rolls that have at least one dice greater than or equal to the target x\n",
        "    return count / len(rolls)\n",
        "    "
      ]
    },
    {
      "cell_type": "markdown",
      "metadata": {
        "id": "0PQlRdj8vgsZ"
      },
      "source": [
        "## Evaluation\n",
        "\n",
        "Evaluate the performance of your tool using the following scenario:\n",
        "A player is in a challenging situation where they have a choice. They can choose between the\n",
        "following challenges:\n",
        "- Roll 1d20 and get a result of 17 or more\n",
        "- Roll 3d4 and get a result of 10 or more\n",
        "- Roll 4d6 and have at least one dice show a 6\n",
        "\n",
        "Use your tool to compute the probabilities and report the best choice for the player."
      ]
    },
    {
      "cell_type": "code",
      "execution_count": 4,
      "metadata": {
        "id": "t4uQ3B6GviBC"
      },
      "outputs": [
        {
          "name": "stdout",
          "output_type": "stream",
          "text": [
            "0.2\n",
            "0.15625\n",
            "0.5177469135802469\n"
          ]
        }
      ],
      "source": [
        "# Just testing\n",
        "print(cal_greater_sum(1, 20, 17))\n",
        "print(cal_greater_sum(3, 4, 10))\n",
        "print(cal_at_least_one(4, 6, 6))"
      ]
    },
    {
      "cell_type": "markdown",
      "metadata": {},
      "source": [
        "The best choice for the player is to Roll a 4d6 and have at least one dice show a 6. There is a 51.77% chance of success with this choice."
      ]
    }
  ],
  "metadata": {
    "colab": {
      "provenance": []
    },
    "kernelspec": {
      "display_name": "Python 3",
      "name": "python3"
    },
    "language_info": {
      "codemirror_mode": {
        "name": "ipython",
        "version": 3
      },
      "file_extension": ".py",
      "mimetype": "text/x-python",
      "name": "python",
      "nbconvert_exporter": "python",
      "pygments_lexer": "ipython3",
      "version": "3.9.12"
    }
  },
  "nbformat": 4,
  "nbformat_minor": 0
}
