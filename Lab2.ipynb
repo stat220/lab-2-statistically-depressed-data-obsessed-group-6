{
  "nbformat": 4,
  "nbformat_minor": 0,
  "metadata": {
    "colab": {
      "provenance": []
    },
    "kernelspec": {
      "name": "python3",
      "display_name": "Python 3"
    },
    "language_info": {
      "name": "python"
    }
  },
  "cells": [
    {
      "cell_type": "markdown",
      "source": [
        "# Lab 2"
      ],
      "metadata": {
        "id": "AMSos5TwvRUh"
      }
    },
    {
      "cell_type": "markdown",
      "source": [
        "## Part A\n",
        "\n",
        "A Calculating the probability of rolling m dice, each with n sides, and having the sum of the dice\n",
        "be greater than x. This calculation should only be implemented for m = 1 through 4 and n is\n",
        "at most 20."
      ],
      "metadata": {
        "id": "okS-3Z1tvd-_"
      }
    },
    {
      "cell_type": "code",
      "source": [
        "import itertools\n",
        "import pandas as pd\n",
        "import numpy as np"
      ],
      "metadata": {
        "id": "s5ydA12GwF14"
      },
      "execution_count": null,
      "outputs": []
    },
    {
      "cell_type": "code",
      "execution_count": 3,
      "metadata": {
        "id": "C2yEvwJ-vPkt"
      },
      "outputs": [],
      "source": [
        "# M: Number of dice\n",
        "# N: How many sides each dice has\n",
        "# X: Sum of dice to be greater than\n",
        "def cal_greater_sum(m, n, x):\n",
        "  # List out all possible rolls\n",
        "  rolls = list(itertools.product(range(1, n + 1), repeat=m))\n",
        "  # Find the sum of all possible rolls\n",
        "  sums = np.array([sum(roll) for roll in rolls])\n",
        "  # Find the proportion of those sums that are greater than or equal to the target x\n",
        "  np.mean(sums >= x)"
      ]
    },
    {
      "cell_type": "markdown",
      "source": [
        "## Part B\n",
        "\n",
        "Determining the probability of rolling m dice, each with n sides, and having at least one die\n",
        "show a value greater than or equal to x."
      ],
      "metadata": {
        "id": "Pz0EyhyAvfL1"
      }
    },
    {
      "cell_type": "code",
      "source": [],
      "metadata": {
        "id": "aD6U_v6Yvgdo"
      },
      "execution_count": null,
      "outputs": []
    },
    {
      "cell_type": "markdown",
      "source": [
        "## Evaluation\n",
        "\n",
        "Evaluate the performance of your tool using the following scenario:\n",
        "A player is in a challenging situation where they have a choice. They can choose between the\n",
        "following challenges:\n",
        "• Roll 1d20 and get a result of 17 or more\n",
        "• Roll 3d4 and get a result of 10 or more\n",
        "• Roll 4d6 and have at least one dice show a 6\n",
        "Use your tool to compute the probabilities and report the best choice for the player."
      ],
      "metadata": {
        "id": "0PQlRdj8vgsZ"
      }
    },
    {
      "cell_type": "code",
      "source": [],
      "metadata": {
        "id": "t4uQ3B6GviBC"
      },
      "execution_count": null,
      "outputs": []
    }
  ]
}